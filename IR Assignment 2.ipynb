{
 "cells": [
  {
   "cell_type": "markdown",
   "id": "f3b06abb-1499-4e5c-937a-48253416730c",
   "metadata": {},
   "source": [
    "### Importing of Libraries"
   ]
  },
  {
   "cell_type": "code",
   "execution_count": 1,
   "id": "e4e6f96d-529f-4877-a7fa-b22a1ad7f239",
   "metadata": {},
   "outputs": [],
   "source": [
    "import pandas as pd\n",
    "import cv2\n",
    "import numpy as np\n",
    "import matplotlib.pyplot as plt\n",
    "import requests\n",
    "from io import BytesIO\n",
    "import numpy as np\n",
    "from PIL import Image        \n",
    "import random\n",
    "from sklearn.metrics.pairwise import cosine_similarity"
   ]
  },
  {
   "cell_type": "markdown",
   "id": "69432e6c-1e90-4eb0-952d-ad06155f0ab5",
   "metadata": {},
   "source": [
    "### Data Loading"
   ]
  },
  {
   "cell_type": "code",
   "execution_count": 2,
   "id": "77b83caa-c8a1-407d-bccc-6488103839d2",
   "metadata": {},
   "outputs": [],
   "source": [
    "data = pd.read_csv('A2_data.csv')"
   ]
  },
  {
   "cell_type": "markdown",
   "id": "50d7d907-f70e-453b-9d4b-e9e21b9741f9",
   "metadata": {},
   "source": [
    "### Data Exploration"
   ]
  },
  {
   "cell_type": "code",
   "execution_count": 3,
   "id": "43b054b4-4a28-465c-8f3d-31ff4834576c",
   "metadata": {},
   "outputs": [
    {
     "data": {
      "text/html": [
       "<div>\n",
       "<style scoped>\n",
       "    .dataframe tbody tr th:only-of-type {\n",
       "        vertical-align: middle;\n",
       "    }\n",
       "\n",
       "    .dataframe tbody tr th {\n",
       "        vertical-align: top;\n",
       "    }\n",
       "\n",
       "    .dataframe thead th {\n",
       "        text-align: right;\n",
       "    }\n",
       "</style>\n",
       "<table border=\"1\" class=\"dataframe\">\n",
       "  <thead>\n",
       "    <tr style=\"text-align: right;\">\n",
       "      <th></th>\n",
       "      <th>Unnamed: 0</th>\n",
       "      <th>Image</th>\n",
       "      <th>Review Text</th>\n",
       "    </tr>\n",
       "  </thead>\n",
       "  <tbody>\n",
       "    <tr>\n",
       "      <th>0</th>\n",
       "      <td>3452</td>\n",
       "      <td>['https://images-na.ssl-images-amazon.com/imag...</td>\n",
       "      <td>Loving these vintage springs on my vintage str...</td>\n",
       "    </tr>\n",
       "    <tr>\n",
       "      <th>1</th>\n",
       "      <td>1205</td>\n",
       "      <td>['https://images-na.ssl-images-amazon.com/imag...</td>\n",
       "      <td>Works great as a guitar bench mat. Not rugged ...</td>\n",
       "    </tr>\n",
       "    <tr>\n",
       "      <th>2</th>\n",
       "      <td>1708</td>\n",
       "      <td>['https://images-na.ssl-images-amazon.com/imag...</td>\n",
       "      <td>We use these for everything from our acoustic ...</td>\n",
       "    </tr>\n",
       "    <tr>\n",
       "      <th>3</th>\n",
       "      <td>2078</td>\n",
       "      <td>['https://images-na.ssl-images-amazon.com/imag...</td>\n",
       "      <td>Great price and good quality.  It didn't quite...</td>\n",
       "    </tr>\n",
       "    <tr>\n",
       "      <th>4</th>\n",
       "      <td>801</td>\n",
       "      <td>['https://images-na.ssl-images-amazon.com/imag...</td>\n",
       "      <td>I bought this bass to split time as my primary...</td>\n",
       "    </tr>\n",
       "  </tbody>\n",
       "</table>\n",
       "</div>"
      ],
      "text/plain": [
       "   Unnamed: 0                                              Image  \\\n",
       "0        3452  ['https://images-na.ssl-images-amazon.com/imag...   \n",
       "1        1205  ['https://images-na.ssl-images-amazon.com/imag...   \n",
       "2        1708  ['https://images-na.ssl-images-amazon.com/imag...   \n",
       "3        2078  ['https://images-na.ssl-images-amazon.com/imag...   \n",
       "4         801  ['https://images-na.ssl-images-amazon.com/imag...   \n",
       "\n",
       "                                         Review Text  \n",
       "0  Loving these vintage springs on my vintage str...  \n",
       "1  Works great as a guitar bench mat. Not rugged ...  \n",
       "2  We use these for everything from our acoustic ...  \n",
       "3  Great price and good quality.  It didn't quite...  \n",
       "4  I bought this bass to split time as my primary...  "
      ]
     },
     "execution_count": 3,
     "metadata": {},
     "output_type": "execute_result"
    }
   ],
   "source": [
    "data.head()"
   ]
  },
  {
   "cell_type": "code",
   "execution_count": 4,
   "id": "bb9acd0b-026a-48b5-9046-14d60f464f3a",
   "metadata": {},
   "outputs": [
    {
     "data": {
      "text/plain": [
       "Index(['Unnamed: 0', 'Image', 'Review Text'], dtype='object')"
      ]
     },
     "execution_count": 4,
     "metadata": {},
     "output_type": "execute_result"
    }
   ],
   "source": [
    "data.columns"
   ]
  },
  {
   "cell_type": "code",
   "execution_count": 5,
   "id": "f0295c33-1ce4-4e10-95c9-ccb5d92f64d6",
   "metadata": {},
   "outputs": [],
   "source": [
    "data = data.drop(columns=['Unnamed: 0'])"
   ]
  },
  {
   "cell_type": "code",
   "execution_count": 6,
   "id": "efa5f8ab-927c-4fa0-a682-02697203fdcd",
   "metadata": {},
   "outputs": [
    {
     "data": {
      "text/html": [
       "<div>\n",
       "<style scoped>\n",
       "    .dataframe tbody tr th:only-of-type {\n",
       "        vertical-align: middle;\n",
       "    }\n",
       "\n",
       "    .dataframe tbody tr th {\n",
       "        vertical-align: top;\n",
       "    }\n",
       "\n",
       "    .dataframe thead th {\n",
       "        text-align: right;\n",
       "    }\n",
       "</style>\n",
       "<table border=\"1\" class=\"dataframe\">\n",
       "  <thead>\n",
       "    <tr style=\"text-align: right;\">\n",
       "      <th></th>\n",
       "      <th>Image</th>\n",
       "      <th>Review Text</th>\n",
       "    </tr>\n",
       "  </thead>\n",
       "  <tbody>\n",
       "    <tr>\n",
       "      <th>0</th>\n",
       "      <td>['https://images-na.ssl-images-amazon.com/imag...</td>\n",
       "      <td>Loving these vintage springs on my vintage str...</td>\n",
       "    </tr>\n",
       "    <tr>\n",
       "      <th>1</th>\n",
       "      <td>['https://images-na.ssl-images-amazon.com/imag...</td>\n",
       "      <td>Works great as a guitar bench mat. Not rugged ...</td>\n",
       "    </tr>\n",
       "    <tr>\n",
       "      <th>2</th>\n",
       "      <td>['https://images-na.ssl-images-amazon.com/imag...</td>\n",
       "      <td>We use these for everything from our acoustic ...</td>\n",
       "    </tr>\n",
       "    <tr>\n",
       "      <th>3</th>\n",
       "      <td>['https://images-na.ssl-images-amazon.com/imag...</td>\n",
       "      <td>Great price and good quality.  It didn't quite...</td>\n",
       "    </tr>\n",
       "    <tr>\n",
       "      <th>4</th>\n",
       "      <td>['https://images-na.ssl-images-amazon.com/imag...</td>\n",
       "      <td>I bought this bass to split time as my primary...</td>\n",
       "    </tr>\n",
       "  </tbody>\n",
       "</table>\n",
       "</div>"
      ],
      "text/plain": [
       "                                               Image  \\\n",
       "0  ['https://images-na.ssl-images-amazon.com/imag...   \n",
       "1  ['https://images-na.ssl-images-amazon.com/imag...   \n",
       "2  ['https://images-na.ssl-images-amazon.com/imag...   \n",
       "3  ['https://images-na.ssl-images-amazon.com/imag...   \n",
       "4  ['https://images-na.ssl-images-amazon.com/imag...   \n",
       "\n",
       "                                         Review Text  \n",
       "0  Loving these vintage springs on my vintage str...  \n",
       "1  Works great as a guitar bench mat. Not rugged ...  \n",
       "2  We use these for everything from our acoustic ...  \n",
       "3  Great price and good quality.  It didn't quite...  \n",
       "4  I bought this bass to split time as my primary...  "
      ]
     },
     "execution_count": 6,
     "metadata": {},
     "output_type": "execute_result"
    }
   ],
   "source": [
    "data.head()"
   ]
  },
  {
   "cell_type": "code",
   "execution_count": 7,
   "id": "7e03aa4b-fa97-4d83-a2c1-737185f6f8c3",
   "metadata": {},
   "outputs": [
    {
     "data": {
      "text/html": [
       "<div>\n",
       "<style scoped>\n",
       "    .dataframe tbody tr th:only-of-type {\n",
       "        vertical-align: middle;\n",
       "    }\n",
       "\n",
       "    .dataframe tbody tr th {\n",
       "        vertical-align: top;\n",
       "    }\n",
       "\n",
       "    .dataframe thead th {\n",
       "        text-align: right;\n",
       "    }\n",
       "</style>\n",
       "<table border=\"1\" class=\"dataframe\">\n",
       "  <thead>\n",
       "    <tr style=\"text-align: right;\">\n",
       "      <th></th>\n",
       "      <th>Image</th>\n",
       "      <th>Review Text</th>\n",
       "    </tr>\n",
       "  </thead>\n",
       "  <tbody>\n",
       "    <tr>\n",
       "      <th>0</th>\n",
       "      <td>['https://images-na.ssl-images-amazon.com/imag...</td>\n",
       "      <td>Loving these vintage springs on my vintage str...</td>\n",
       "    </tr>\n",
       "    <tr>\n",
       "      <th>1</th>\n",
       "      <td>['https://images-na.ssl-images-amazon.com/imag...</td>\n",
       "      <td>Works great as a guitar bench mat. Not rugged ...</td>\n",
       "    </tr>\n",
       "    <tr>\n",
       "      <th>2</th>\n",
       "      <td>['https://images-na.ssl-images-amazon.com/imag...</td>\n",
       "      <td>We use these for everything from our acoustic ...</td>\n",
       "    </tr>\n",
       "    <tr>\n",
       "      <th>3</th>\n",
       "      <td>['https://images-na.ssl-images-amazon.com/imag...</td>\n",
       "      <td>Great price and good quality.  It didn't quite...</td>\n",
       "    </tr>\n",
       "    <tr>\n",
       "      <th>4</th>\n",
       "      <td>['https://images-na.ssl-images-amazon.com/imag...</td>\n",
       "      <td>I bought this bass to split time as my primary...</td>\n",
       "    </tr>\n",
       "  </tbody>\n",
       "</table>\n",
       "</div>"
      ],
      "text/plain": [
       "                                               Image  \\\n",
       "0  ['https://images-na.ssl-images-amazon.com/imag...   \n",
       "1  ['https://images-na.ssl-images-amazon.com/imag...   \n",
       "2  ['https://images-na.ssl-images-amazon.com/imag...   \n",
       "3  ['https://images-na.ssl-images-amazon.com/imag...   \n",
       "4  ['https://images-na.ssl-images-amazon.com/imag...   \n",
       "\n",
       "                                         Review Text  \n",
       "0  Loving these vintage springs on my vintage str...  \n",
       "1  Works great as a guitar bench mat. Not rugged ...  \n",
       "2  We use these for everything from our acoustic ...  \n",
       "3  Great price and good quality.  It didn't quite...  \n",
       "4  I bought this bass to split time as my primary...  "
      ]
     },
     "execution_count": 7,
     "metadata": {},
     "output_type": "execute_result"
    }
   ],
   "source": [
    "data.head()"
   ]
  },
  {
   "cell_type": "markdown",
   "id": "9d35db4f-9828-461f-8c40-3f15e55f5864",
   "metadata": {},
   "source": [
    "### Get the image out of URL"
   ]
  },
  {
   "cell_type": "code",
   "execution_count": 8,
   "id": "438f06b3-cdef-4387-81aa-f45524b3f8c0",
   "metadata": {},
   "outputs": [],
   "source": [
    "def getImagefromURL(imageLink):\n",
    "    try:\n",
    "        response = requests.get(imageLink)\n",
    "        image = np.array(Image.open(BytesIO(response.content)))\n",
    "        return image\n",
    "    except Exception as e:\n",
    "        return None"
   ]
  },
  {
   "cell_type": "markdown",
   "id": "2383b201-4b88-4a29-80e1-a4371cb8fdbe",
   "metadata": {},
   "source": [
    "### Image Preprocessing"
   ]
  },
  {
   "cell_type": "code",
   "execution_count": 9,
   "id": "84305bd6-755e-42ef-a250-49b7de8139f5",
   "metadata": {},
   "outputs": [],
   "source": [
    "import cv2\n",
    "import numpy as np\n",
    "import matplotlib.pyplot as plt\n",
    "import requests\n",
    "from io import BytesIO\n",
    "import numpy as np\n",
    "def imagePreprocessing(image):\n",
    "    \n",
    "    if(image is not None):\n",
    "        # rotated_image = cv2.rotate(image, cv2.ROTATE_90_CLOCKWISE)\n",
    "        # Image Resizing \n",
    "        getResizeImage = cv2.resize(image,(128,128))\n",
    "\n",
    "        # Contrast and Brightness\n",
    "        a = 1.5\n",
    "        b = 10\n",
    "        get_contrast_brightnessImage = cv2.convertScaleAbs(getResizeImage,alpha=a,beta=b)\n",
    "\n",
    "        # Random Flip\n",
    "        val = random.randint(0, 1)\n",
    "        flippedImage = cv2.flip(get_contrast_brightnessImage,val)\n",
    "\n",
    "        # Normalization of Image\n",
    "        normalizedImage = flippedImage/255.0\n",
    "\n",
    "        return normalizedImage\n",
    "    else:\n",
    "        return None"
   ]
  },
  {
   "cell_type": "markdown",
   "id": "e3f0df57-e137-4fd6-a4f5-9059b7fa0e58",
   "metadata": {},
   "source": [
    "### Text/Review Preprocessing"
   ]
  },
  {
   "cell_type": "code",
   "execution_count": 10,
   "id": "3b5a4adf-7739-4a22-aa72-120b9f01ba12",
   "metadata": {},
   "outputs": [
    {
     "name": "stderr",
     "output_type": "stream",
     "text": [
      "[nltk_data] Downloading package stopwords to\n",
      "[nltk_data]     /Users/pulkit/nltk_data...\n",
      "[nltk_data]   Package stopwords is already up-to-date!\n",
      "[nltk_data] Downloading package wordnet to /Users/pulkit/nltk_data...\n",
      "[nltk_data]   Package wordnet is already up-to-date!\n"
     ]
    }
   ],
   "source": [
    "import re\n",
    "import nltk\n",
    "# to get stopwords list\n",
    "nltk.download('stopwords') \n",
    "nltk.download('wordnet')\n",
    "from nltk.corpus import stopwords\n",
    "from nltk.stem import PorterStemmer,WordNetLemmatizer\n",
    "import string\n",
    "def queryProcessing(str_data):\n",
    "    if isinstance(str_data, str):\n",
    "        str_data = str_data.lower()\n",
    "        str_data = re.sub('[^a-zA-Z]',' ',str_data)\n",
    "        str_data = str_data.split()\n",
    "    \n",
    "        # Get english stopwords\n",
    "        allStopwords = stopwords.words('english')    \n",
    "    \n",
    "        # Add words that are not stopwords\n",
    "        # str_data = [word for word in str_data if not word in set(allStopwords)] \n",
    "\n",
    "        # changes\n",
    "        \n",
    "        ps = PorterStemmer()\n",
    "        str_data = [ps.stem(word) for word in str_data if not word in set(allStopwords)]\n",
    "\n",
    "        lm = WordNetLemmatizer()\n",
    "        str_data = [lm.lemmatize(token) for token in str_data] \n",
    "\n",
    "        \n",
    "        # join string\n",
    "        str_temp = ' '.join(str_data)\n",
    "    \n",
    "        str_temp.translate(str.maketrans('', '', string.punctuation))\n",
    "    \n",
    "        str_temp = str_temp.split()\n",
    "    \n",
    "        # Check each word in each string for blank space\n",
    "        str_data = [i for i in str_temp if i.strip()!='']\n",
    "    \n",
    "        # Join to form strin again\n",
    "        str_data = ' '.join(str_data)\n",
    "        return str_data\n",
    "    else:\n",
    "        return \"\""
   ]
  },
  {
   "cell_type": "markdown",
   "id": "1ebcc13f-5d8e-4510-aa92-1556d63c4ca2",
   "metadata": {},
   "source": [
    "### Feature Extraction using MobileNetV2"
   ]
  },
  {
   "cell_type": "code",
   "execution_count": 11,
   "id": "ca5b01f3-6e8c-4316-8133-60a31e332101",
   "metadata": {},
   "outputs": [],
   "source": [
    "import tensorflow as tf\n",
    "from tensorflow.keras.applications.mobilenet_v2 import preprocess_input\n",
    "def feature_ExtractionImage(image):\n",
    "    if(image is not None):\n",
    "        img_shape = (128,128,3)\n",
    "        base_model = tf.keras.applications.MobileNetV2(input_shape=img_shape,include_top=False,weights='imagenet')\n",
    "        imageTrained = preprocess_input(image)\n",
    "        getFeatures = base_model.predict(np.expand_dims(imageTrained, axis=0))\n",
    "        return getFeatures\n",
    "    else:\n",
    "        return None"
   ]
  },
  {
   "cell_type": "markdown",
   "id": "529de7d0-d54a-4847-811f-e5958da9bf16",
   "metadata": {},
   "source": [
    "### Get the TF-IDF Scores"
   ]
  },
  {
   "cell_type": "code",
   "execution_count": 12,
   "id": "35b863c1-9de8-430e-a1e5-2e39ea483689",
   "metadata": {},
   "outputs": [],
   "source": [
    "import math\n",
    "def tf_idfScoring(str):\n",
    "\n",
    "    # Get the TF List\n",
    "    tf_list = []\n",
    "    for curr_doc in str:\n",
    "        temp = curr_doc.split(\" \")\n",
    "        d = {}\n",
    "        for i in temp:\n",
    "            if i not in d:\n",
    "                d[i]=1\n",
    "            else:\n",
    "                d[i] = d[i]+1\n",
    "    \n",
    "        for key in d:\n",
    "            d[key] = 1+math.log2(d[key])\n",
    "        tf_list.append(d)\n",
    "\n",
    "    # Get the IDF List\n",
    "    idf_list = []\n",
    "    total_doc = len(str)\n",
    "    for curr_doc in str:\n",
    "        temp = curr_doc.split(\" \")\n",
    "        d={}\n",
    "        for i in temp:\n",
    "            val = 0\n",
    "            for j in str:\n",
    "                check_curr_doc = set(j.split(\" \"))\n",
    "                if(i in check_curr_doc):\n",
    "                    val = val+1\n",
    "            d[i] = math.log2(total_doc/val)\n",
    "\n",
    "        idf_list.append(d)\n",
    "\n",
    "    result_all_tfidf = []\n",
    "\n",
    "    # Get the TF-IDF results\n",
    "    for d1, d2 in zip(tf_list, idf_list):\n",
    "        result_d = {}\n",
    "        for key in d1.keys() | d2.keys():\n",
    "            result_d[key] = d1.get(key, 0) * d2.get(key, 0)\n",
    "        result_all_tfidf.append(result_d)\n",
    "    return result_all_tfidf"
   ]
  },
  {
   "cell_type": "markdown",
   "id": "37755b29-777f-44ce-a748-e57b26e1cf5a",
   "metadata": {},
   "source": [
    "### Get the Similarity Score of Images"
   ]
  },
  {
   "cell_type": "code",
   "execution_count": 13,
   "id": "8db4fc93-90e4-446f-b5bc-d3abab5086c5",
   "metadata": {},
   "outputs": [],
   "source": [
    "def find_similar_images(input_image, image_list):\n",
    "    # List to store cosine similarity scores for each list of images\n",
    "    result = []\n",
    "    \n",
    "    # Iterate over each list of images in image_list\n",
    "    for image_sublist in image_list:\n",
    "        sublist_scores = []\n",
    "        \n",
    "        # Iterate over each image in the current list\n",
    "        for curr_img in image_sublist:\n",
    "            if curr_img is not None:\n",
    "                # Flatten the input image and the current image in image list\n",
    "                flatted_val = input_image.reshape(1, -1)\n",
    "                flatted_curr_image = curr_img.reshape(1, -1)\n",
    "\n",
    "                # Normalize the flattened image and the current flattened image in image list\n",
    "                normalized_val = flatted_val / np.linalg.norm(flatted_val)\n",
    "                normalized_curr_image = flatted_curr_image / np.linalg.norm(flatted_curr_image)\n",
    "\n",
    "                # Get the cosine Similarities\n",
    "                getVal = cosine_similarity(normalized_val, normalized_curr_image)[0][0]\n",
    "                sublist_scores.append(getVal)\n",
    "            else:\n",
    "                # If current image is None, append a placeholder score (e.g., -1)\n",
    "                sublist_scores.append(-1)\n",
    "        \n",
    "        # Append the sublist of scores to the result list\n",
    "        result.append(sublist_scores)\n",
    "    \n",
    "    return result\n"
   ]
  },
  {
   "cell_type": "markdown",
   "id": "770071f9-719c-4bdb-bf85-43652bc200c9",
   "metadata": {},
   "source": [
    "### Processing on the Dataset"
   ]
  },
  {
   "cell_type": "code",
   "execution_count": 14,
   "id": "747b47c2-46cf-4d45-b666-c751b875527a",
   "metadata": {},
   "outputs": [],
   "source": [
    "# import ast\n",
    "# # To store the image features\n",
    "# all_image_features = []\n",
    "\n",
    "# # To store the text features\n",
    "# all_text_features = []\n",
    "\n",
    "# # Iterate over the data\n",
    "# for index, row in data.iterrows(): \n",
    "#     if(row['Image'] is not None):\n",
    "#         image_links = ast.literal_eval(row['Image'])\n",
    "#         temp_folder = []\n",
    "#         for image in image_links:\n",
    "#             # Get image from url\n",
    "#             getImage = getImagefromURL(image)\n",
    "    \n",
    "#             # Get the Processed image\n",
    "#             getPreprocessedImage = imagePreprocessing(getImage)\n",
    "    \n",
    "#             # get the features from image\n",
    "#             getFeatures = feature_ExtractionImage(getPreprocessedImage)\n",
    "#             if(getFeatures is not None):\n",
    "#                 getNormalizedFeatures = getFeatures/np.linalg.norm(getFeatures)\n",
    "#             else:\n",
    "#                 getNormalizedFeatures = None\n",
    "    \n",
    "#             # Storing the image features\n",
    "#             temp_folder.append(getNormalizedFeatures)\n",
    "#         all_image_features.append(temp_folder)\n",
    "#         # Process the Text Query \n",
    "#         getProcessedText = queryProcessing(row['Review Text'])\n",
    "\n",
    "#         # Store the text features\n",
    "#         all_text_features.append(getProcessedText)\n",
    "\n"
   ]
  },
  {
   "cell_type": "code",
   "execution_count": 15,
   "id": "aaccdedc-f70a-4d30-9df4-3b3119fefd41",
   "metadata": {},
   "outputs": [],
   "source": [
    "# Image Features\n",
    "# all_image_features"
   ]
  },
  {
   "cell_type": "markdown",
   "id": "f821c74f-02de-470a-9c54-9f0191555368",
   "metadata": {},
   "source": [
    "### Storing and Loading Image Features, Text Fetures and TF-IDF Scores using Pickle"
   ]
  },
  {
   "cell_type": "code",
   "execution_count": 16,
   "id": "bec3158c-7891-49e0-bcdb-882829074fdb",
   "metadata": {},
   "outputs": [],
   "source": [
    "import pickle\n",
    "\n",
    "def imageFeature_store():\n",
    "    f = open(\"file_image_features.pkl\",\"wb\")\n",
    "    pickle.dump(all_image_features,f)\n",
    "    f.close()\n",
    "def imageFeature_get():\n",
    "    f = open(\"file_image_features.pkl\",\"rb\")\n",
    "    return pickle.load(f)\n",
    "    f.close()\n",
    "\n",
    "def textFeature_store():\n",
    "    f = open(\"file_text_features.pkl\",\"wb\")\n",
    "    pickle.dump(all_text_features,f)\n",
    "    f.close()\n",
    "def textFeature_get():\n",
    "    f = open(\"file_text_features.pkl\",\"rb\")\n",
    "    return pickle.load(f)\n",
    "    f.close()"
   ]
  },
  {
   "cell_type": "code",
   "execution_count": 17,
   "id": "a75b1ab3-5724-4c55-a35b-6dcd2f0c89df",
   "metadata": {},
   "outputs": [],
   "source": [
    "# imageFeature_store()\n",
    "all_image_features = imageFeature_get()\n",
    "# textFeature_store()\n",
    "all_text_features = textFeature_get()"
   ]
  },
  {
   "cell_type": "code",
   "execution_count": 18,
   "id": "d7f23e54-0d88-4599-a5c3-fac58da93514",
   "metadata": {},
   "outputs": [],
   "source": [
    "# Get the TF-IDF Scores\n",
    "# get_alltfidf_scores = tf_idfScoring(all_text_features)"
   ]
  },
  {
   "cell_type": "code",
   "execution_count": 19,
   "id": "4f1e3a28-502b-439a-8191-dece813adbb4",
   "metadata": {},
   "outputs": [],
   "source": [
    "def tdidf_store():\n",
    "    f = open(\"tfidf_features.pkl\",\"wb\")\n",
    "    pickle.dump(get_alltfidf_scores,f)\n",
    "    f.close()\n",
    "def tdidf_get():\n",
    "    f = open(\"tfidf_features.pkl\",\"rb\")\n",
    "    return pickle.load(f)\n",
    "    f.close()"
   ]
  },
  {
   "cell_type": "code",
   "execution_count": 20,
   "id": "52505a4e-2ebc-45cd-926a-30eb70f0eeec",
   "metadata": {},
   "outputs": [],
   "source": [
    "# tdidf_store()\n",
    "get_alltfidf_scores = tdidf_get()"
   ]
  },
  {
   "cell_type": "code",
   "execution_count": 21,
   "id": "f2bf526b-8059-4d82-a515-9dbfeedf4a7f",
   "metadata": {},
   "outputs": [],
   "source": [
    "# Get the images filtered\n",
    "filtered_image_list = [img for img in all_image_features if img is not None]"
   ]
  },
  {
   "cell_type": "markdown",
   "id": "acfdabe2-7b3c-4b5e-9810-e5e44b2369d1",
   "metadata": {},
   "source": [
    "### Similarity Score calculation of Text"
   ]
  },
  {
   "cell_type": "code",
   "execution_count": 22,
   "id": "dc683564-8e3d-4d8c-aad4-eb215265d816",
   "metadata": {},
   "outputs": [],
   "source": [
    "def cosineScores_of_text(input_tfidf, all_text_tfidf):\n",
    "    getResult = []\n",
    "    scoring = math.sqrt(sum(value ** 2 for value in input_tfidf.values()))\n",
    "    \n",
    "    for curr in all_text_tfidf:\n",
    "        getVal = sum(input_tfidf.get(word, 0) * curr.get(word, 0) for word in set(input_tfidf) & set(curr))\n",
    "        getNum = math.sqrt(sum(value ** 2 for value in curr.values()))\n",
    "        \n",
    "        val = getVal / (scoring * getNum)\n",
    "        getResult.append(val)\n",
    "    \n",
    "    return getResult"
   ]
  },
  {
   "cell_type": "markdown",
   "id": "4e002d4d-ee37-46ac-83e8-d8238086ebb4",
   "metadata": {},
   "source": [
    "### Tf-IDF for the input text"
   ]
  },
  {
   "cell_type": "code",
   "execution_count": 23,
   "id": "f726a711-2c28-4563-932a-7caefd6ae975",
   "metadata": {},
   "outputs": [],
   "source": [
    "def tf_idfScoringforInput(input_text,str):\n",
    "    # Get the TF List\n",
    "    tf_list = []\n",
    "    temp = input_text.split(\" \")\n",
    "    d = {}\n",
    "    for i in temp:\n",
    "        if i not in d:\n",
    "            d[i]=1\n",
    "        else:\n",
    "            d[i] = d[i]+1\n",
    "\n",
    "    for key in d:\n",
    "        d[key] = 1+math.log2(d[key])\n",
    "    tf_list.append(d)\n",
    "\n",
    "    # Get the IDF List\n",
    "    idf_list = []\n",
    "    total_doc = len(str)\n",
    "    temp = input_text.split(\" \")\n",
    "    d={}\n",
    "    for i in temp:\n",
    "        val = 0\n",
    "        for j in str:\n",
    "            check_curr_doc = set(j.split(\" \"))\n",
    "            if(i in check_curr_doc):\n",
    "                val = val+1\n",
    "        d[i] = math.log2(total_doc/val)\n",
    "\n",
    "    idf_list.append(d)\n",
    "\n",
    "    result_all_tfidf = []\n",
    "\n",
    "    # Get the TF-IDF results\n",
    "    for d1, d2 in zip(tf_list, idf_list):\n",
    "        result_d = {}\n",
    "        for key in d1.keys() | d2.keys():\n",
    "            result_d[key] = d1.get(key, 0) * d2.get(key, 0)\n",
    "        result_all_tfidf.append(result_d)\n",
    "    return result_all_tfidf"
   ]
  },
  {
   "cell_type": "markdown",
   "id": "ea82b488-0ee3-4256-a59b-7b9fe91aae5c",
   "metadata": {},
   "source": [
    "### Get the input"
   ]
  },
  {
   "cell_type": "code",
   "execution_count": 24,
   "id": "aa60b868-afb5-449b-9cff-dee482725495",
   "metadata": {},
   "outputs": [],
   "source": [
    "def getInput():\n",
    "    print(\"Image and Text Query Input :\")\n",
    "    getImageLink = input()\n",
    "    getTextReview = input()\n",
    "    return getImageLink,getTextReview"
   ]
  },
  {
   "cell_type": "code",
   "execution_count": 25,
   "id": "3ce87e6f-c4ff-4f9d-aeb1-9780236aff21",
   "metadata": {},
   "outputs": [
    {
     "name": "stdout",
     "output_type": "stream",
     "text": [
      "Image and Text Query Input :\n"
     ]
    },
    {
     "name": "stdin",
     "output_type": "stream",
     "text": [
      " https://images-na.ssl-images-amazon.com/images/I/81q5+IxFVUL._SY88.jpg\n",
      " Loving these vintage springs on my vintage strat. They have a good tension and great stability. If you are floating your bridge and want the most out of your springs than these are the way to go.\n"
     ]
    },
    {
     "name": "stdout",
     "output_type": "stream",
     "text": [
      "https://images-na.ssl-images-amazon.com/images/I/81q5+IxFVUL._SY88.jpg\n",
      "Loving these vintage springs on my vintage strat. They have a good tension and great stability. If you are floating your bridge and want the most out of your springs than these are the way to go.\n"
     ]
    }
   ],
   "source": [
    "getImageLink,getTextReview = getInput()\n",
    "print(getImageLink)\n",
    "print(getTextReview)"
   ]
  },
  {
   "cell_type": "markdown",
   "id": "38dc1f8a-6715-40ee-98e5-cab6af93a85c",
   "metadata": {},
   "source": [
    "### Get the preprocessing for input image and input text"
   ]
  },
  {
   "cell_type": "code",
   "execution_count": 26,
   "id": "e18a68db-ea5f-4b0d-9502-1423be4f6660",
   "metadata": {},
   "outputs": [
    {
     "name": "stdout",
     "output_type": "stream",
     "text": [
      "1/1 [==============================] - 0s 268ms/step\n"
     ]
    }
   ],
   "source": [
    "input_image_lr = getImageLink\n",
    "getImage_lr = getImagefromURL(input_image_lr)\n",
    "getPreprocessedImage_lr = imagePreprocessing(getImage_lr)\n",
    "getFeatures_lr = feature_ExtractionImage(getPreprocessedImage_lr)\n",
    "if(getFeatures_lr is not None):\n",
    "    getNormalizedFeatures_lr = getFeatures_lr/np.linalg.norm(getFeatures_lr)\n",
    "else:\n",
    "    getNormalizedFeatures_lr = None\n",
    "similarities_lr=find_similar_images(getNormalizedFeatures_lr,filtered_image_list)"
   ]
  },
  {
   "cell_type": "code",
   "execution_count": 27,
   "id": "7f9fb07c-0e9c-4163-bc64-d8854ed7c71b",
   "metadata": {},
   "outputs": [],
   "source": [
    "getProcessedText_rm = queryProcessing(getTextReview)\n",
    "get_input_scores_rm = tf_idfScoringforInput(getProcessedText_rm,all_text_features)"
   ]
  },
  {
   "cell_type": "code",
   "execution_count": 28,
   "id": "e700c793-8f35-4fa2-9134-8127ae97c2b0",
   "metadata": {},
   "outputs": [],
   "source": [
    "similarities_rm = cosineScores_of_text(get_input_scores_rm[0],get_alltfidf_scores)"
   ]
  },
  {
   "cell_type": "markdown",
   "id": "37b875d6-4de9-4f54-9323-4473fbcc6369",
   "metadata": {},
   "source": [
    "### Get the dataset image and text in form of list"
   ]
  },
  {
   "cell_type": "code",
   "execution_count": 29,
   "id": "e5ec8959-157a-4df2-ac00-79f2f9c14cf2",
   "metadata": {},
   "outputs": [],
   "source": [
    "reviews = data['Review Text'].tolist()"
   ]
  },
  {
   "cell_type": "code",
   "execution_count": 30,
   "id": "9ab38da3-2a22-4c21-a1ae-58aa1c8abf0b",
   "metadata": {},
   "outputs": [],
   "source": [
    "import ast\n",
    "all_images=[]\n",
    "for index, row in data.iterrows(): \n",
    "    if(row['Image'] is not None):\n",
    "        curr_image_links = ast.literal_eval(row['Image'])\n",
    "        temp_curr_folder = []\n",
    "        for image in curr_image_links:\n",
    "            # Get image from url\n",
    "            temp_curr_folder.append(image)\n",
    "        all_images.append(temp_curr_folder)"
   ]
  },
  {
   "cell_type": "markdown",
   "id": "31fe1a0e-df79-4ae4-b212-e45694e3910a",
   "metadata": {},
   "source": [
    "### Get the Top 3 Results according to Image Similarity Score"
   ]
  },
  {
   "cell_type": "code",
   "execution_count": 31,
   "id": "be160b1b-454c-411b-9e4f-c6cc4cbdf4df",
   "metadata": {},
   "outputs": [],
   "source": [
    "flattened_data_lr = [(value, (i, j)) for i, sublist in enumerate(similarities_lr) for j, value in enumerate(sublist)]\n",
    "sorted_data_lr = sorted(flattened_data_lr, key=lambda x: x[0], reverse=True)\n",
    "top_3_values_with_positions_lr = sorted_data_lr[:3]"
   ]
  },
  {
   "cell_type": "code",
   "execution_count": 32,
   "id": "3b5aff36-48df-4aee-9ee1-a418379dcdbb",
   "metadata": {},
   "outputs": [
    {
     "data": {
      "text/plain": [
       "[(1.0000002, (0, 0)), (0.9984887, (892, 0)), (0.99823564, (572, 1))]"
      ]
     },
     "execution_count": 32,
     "metadata": {},
     "output_type": "execute_result"
    }
   ],
   "source": [
    "top_3_values_with_positions_lr"
   ]
  },
  {
   "cell_type": "code",
   "execution_count": 34,
   "id": "199a3325-8804-43f6-84e3-795673d58936",
   "metadata": {},
   "outputs": [
    {
     "name": "stdout",
     "output_type": "stream",
     "text": [
      "Top 3 Results according to Image Similarity Score:\n",
      "\n",
      "1.\n",
      "Cosine similarity of images : https://images-na.ssl-images-amazon.com/images/I/81q5+IxFVUL._SY88.jpg\n",
      "Cosine similarity of text : Loving these vintage springs on my vintage strat. They have a good tension and great stability. If you are floating your bridge and want the most out of your springs than these are the way to go.\n",
      "Cosine similarity Score of images : 1.0000002\n",
      "Cosine similarity Score of text : 1.0000000000000002\n",
      "Composite similarity Score : 1.0000001192092896\n",
      "\n",
      "\n",
      "2.\n",
      "Cosine similarity of images : https://images-na.ssl-images-amazon.com/images/I/71iWTdFA4oL._SY88.jpg\n",
      "Cosine similarity of text : Better thab the terrible string trees my guitar had,  had to drill a small hole though to mount as yoy can see in the pics\n",
      "Cosine similarity Score of images : 0.9984887\n",
      "Cosine similarity Score of text : 0.0\n",
      "Composite similarity Score : 0.49924436211586\n",
      "\n",
      "\n",
      "3.\n",
      "Cosine similarity of images : https://images-na.ssl-images-amazon.com/images/I/713bq9GRJhL._SY88.jpg\n",
      "Cosine similarity of text : Within a month of buying the device, the door that covers the SD card snapped off - a common problem with these recorders. Very poorly engineered.\n",
      "\n",
      "Last week I pulled the device out of a padded camera bag and one of the plastic (painted to look like metal) XLR ejector tabs had broke off.\n",
      "\n",
      "I needed to capture a recording off a mixing board with the balanced jack and had to use an XLR cable. I thought there was enough of the ejector to remove it but it's stuck. I disassembled the cable and have done everything I can to remove it short of opening the recorder.\n",
      "\n",
      "Tascam wants me to send it into them, and from the stories I hear they are probably going to charge me $90 to fix a device that is less than a year old.\n",
      "\n",
      "I will probably use a hacksaw to get the plug off and just use it as is until it dies. I'll buy a ZOOM next time. It's a shame because this device records great, even though the omni mics. For this much $ Tascam needs to prove quality, especially if they are going to say a product is rugged.\n",
      "Cosine similarity Score of images : 0.99823564\n",
      "Cosine similarity Score of text : 0.019050263644113444\n",
      "Composite similarity Score : 0.5086429532770586\n",
      "\n",
      "\n"
     ]
    }
   ],
   "source": [
    "index=1\n",
    "print(\"Top 3 Results according to Image Similarity Score:\")\n",
    "print()\n",
    "for value, position in top_3_values_with_positions_lr:\n",
    "    i, j = position \n",
    "    print(f\"{index}.\")\n",
    "    print(\"Cosine similarity of images : \",end=\"\")\n",
    "    print(all_images[i][j])\n",
    "    print(\"Cosine similarity of text : \",end=\"\")\n",
    "    print(reviews[i])\n",
    "    print(\"Cosine similarity Score of images : \",end=\"\")\n",
    "    print(value)\n",
    "    print(\"Cosine similarity Score of text : \",end=\"\")\n",
    "    print(similarities_rm[i])\n",
    "    print(\"Composite similarity Score : \",end=\"\")\n",
    "    print((value+similarities_rm[i])/2)\n",
    "    print()\n",
    "    print()\n",
    "    index +=1"
   ]
  },
  {
   "cell_type": "markdown",
   "id": "95e88e1b-c931-4cc8-8df5-47eb4e8a9328",
   "metadata": {},
   "source": [
    "### Get the Top 3 Results according to Text Similarity Score"
   ]
  },
  {
   "cell_type": "code",
   "execution_count": 57,
   "id": "399e4e07-9125-4a94-8729-866ea206879d",
   "metadata": {},
   "outputs": [
    {
     "name": "stdout",
     "output_type": "stream",
     "text": [
      "Top 3 Results according to Text Similarity Score:\n",
      "\n",
      "1.\n",
      "Cosine similarity of images : ['https://images-na.ssl-images-amazon.com/images/I/81q5+IxFVUL._SY88.jpg']\n",
      "Cosine similarity of text : Loving these vintage springs on my vintage strat. They have a good tension and great stability. If you are floating your bridge and want the most out of your springs than these are the way to go.\n",
      "Cosine similarity Score of images : [1.0000002]\n",
      "Cosine similarity Score of text : 1.0000000000000002\n",
      "Composite similarity Score : [1.0000001192092896]\n",
      "\n",
      "\n",
      "2.\n",
      "Cosine similarity of images : ['https://images-na.ssl-images-amazon.com/images/I/81Z1d7HaBfL._SY88.jpg']\n",
      "Cosine similarity of text : Nice solid springs and defeinitely more silent. Easy installation and the black looks cool.\n",
      "\n",
      "Pictured with some old uninstalled springs next to them.\n",
      "Cosine similarity Score of images : [0.9959261]\n",
      "Cosine similarity Score of text : 0.32783549222606095\n",
      "Composite similarity Score : [0.6618807871801539]\n",
      "\n",
      "\n",
      "3.\n",
      "Cosine similarity of images : ['https://images-na.ssl-images-amazon.com/images/I/61rFj+KtBRL._SY88.jpg']\n",
      "Cosine similarity of text : Fits great but the only complaint I have is that the tremolo springs are cheap quality and so is the block that attaches to the bridge. I took it off and put my own on. When you do that though, the wammy bar won't fit.\n",
      "Cosine similarity Score of images : [0.99591637]\n",
      "Cosine similarity Score of text : 0.24493505392109394\n",
      "Composite similarity Score : [0.6204257102491212]\n",
      "\n",
      "\n"
     ]
    }
   ],
   "source": [
    "n = 3\n",
    "top_indices_rm  = np.argsort(similarities_rm)[-n:][::-1]\n",
    "\n",
    "\n",
    "index=1\n",
    "all_scores = []\n",
    "print(\"Top 3 Results according to Text Similarity Score:\")\n",
    "print()\n",
    "for idx in top_indices_rm:\n",
    "    print(f\"{index}.\")\n",
    "    print(\"Cosine similarity of images : \",end=\"\")\n",
    "    print(all_images[idx])\n",
    "    print(\"Cosine similarity of text : \",end=\"\")\n",
    "    print(reviews[idx])\n",
    "    print(\"Cosine similarity Score of images : \",end=\"\")\n",
    "    print(similarities_lr[idx])\n",
    "    print(\"Cosine similarity Score of text : \",end=\"\")\n",
    "    print(similarities_rm[idx])\n",
    "    print(\"Composite similarity Score : \",end=\"\")\n",
    "    curr_list = similarities_lr[idx]\n",
    "    temp_list = []\n",
    "    for i in curr_list:\n",
    "        val = (similarities_rm[idx] + i)/2\n",
    "        temp_list.append(val)\n",
    "    all_scores.append((idx, temp_list))\n",
    "    print(temp_list)\n",
    "    print()\n",
    "    print()\n",
    "    index +=1"
   ]
  },
  {
   "cell_type": "markdown",
   "id": "d2964230-172e-49d7-8309-aace601350f4",
   "metadata": {},
   "source": [
    "### Get the composite Scores"
   ]
  },
  {
   "cell_type": "code",
   "execution_count": null,
   "id": "c91d02cc-f23c-466c-829c-53bc9f9a4460",
   "metadata": {},
   "outputs": [],
   "source": [
    "all_composite_list_similarities=[]\n",
    "\n",
    "for i in range(0,len(similarities_lr)):\n",
    "    curr_list_image_score = similarities_lr[i]\n",
    "    temp=[]\n",
    "    for curr_score in curr_list_image_score:\n",
    "        val = (curr_score + similarities_rm[i])/2\n",
    "        temp.append(val)\n",
    "    all_composite_list_similarities.append(temp)"
   ]
  },
  {
   "cell_type": "markdown",
   "id": "18e993a1-6084-4ead-8608-fde90c9d6345",
   "metadata": {},
   "source": [
    "### Composite Score"
   ]
  },
  {
   "cell_type": "code",
   "execution_count": null,
   "id": "41dbe988-ba31-4e75-93eb-e71ac1b9f3d7",
   "metadata": {},
   "outputs": [],
   "source": [
    "all_composite_list_similarities"
   ]
  },
  {
   "cell_type": "markdown",
   "id": "a078f2f9-4637-4732-a59f-a38490142e33",
   "metadata": {},
   "source": [
    "### Similarity Scores using the Image"
   ]
  },
  {
   "cell_type": "code",
   "execution_count": null,
   "id": "7b4528b8-a5b3-4e3a-a445-4de700984091",
   "metadata": {},
   "outputs": [],
   "source": [
    "similarities_lr"
   ]
  },
  {
   "cell_type": "markdown",
   "id": "69566f56-12ff-402a-b08f-9c937aec26ba",
   "metadata": {},
   "source": [
    "### Similarity Scores using the Text"
   ]
  },
  {
   "cell_type": "code",
   "execution_count": null,
   "id": "e265b0eb-834f-4904-913e-a5319d5174a5",
   "metadata": {},
   "outputs": [],
   "source": [
    "similarities_rm"
   ]
  },
  {
   "cell_type": "markdown",
   "id": "e5f65f4a-e7dc-4a3d-9de7-e2a4206f8a90",
   "metadata": {},
   "source": [
    "### Get the Top 3 Results according to Composite Similarity Score"
   ]
  },
  {
   "cell_type": "code",
   "execution_count": null,
   "id": "2c733977-6380-4ce5-95a9-b56bc09c4dad",
   "metadata": {},
   "outputs": [],
   "source": [
    "flattened_data_composite = [(value, (i, j)) for i, sublist in enumerate(all_composite_list_similarities) for j, value in enumerate(sublist)]\n",
    "sorted_data_composite = sorted(flattened_data_composite, key=lambda x: x[0], reverse=True)\n",
    "top_3_values_with_positions_composite = sorted_data_composite[:3]"
   ]
  },
  {
   "cell_type": "code",
   "execution_count": null,
   "id": "d402d54a-88c9-4ba8-b7ac-264ce06f7257",
   "metadata": {},
   "outputs": [],
   "source": [
    "top_3_values_with_positions_composite"
   ]
  },
  {
   "cell_type": "code",
   "execution_count": null,
   "id": "a8e6a30f-e390-41af-96c4-d4b9238008da",
   "metadata": {},
   "outputs": [],
   "source": [
    "index=1\n",
    "print(\"Top 3 Results according to Composite Similarity Score: \")\n",
    "print()\n",
    "for value, position in top_3_values_with_positions_composite:\n",
    "    i, j = position \n",
    "    print(f\"{index}.\")\n",
    "    print(\"Cosine similarity of images : \",end=\"\")\n",
    "    print(all_images[i][j])\n",
    "    print(\"Cosine similarity of text : \",end=\"\")\n",
    "    print(reviews[i])\n",
    "    print(\"Composite similarity Score of images and text : \",end=\"\")\n",
    "    print(value)\n",
    "    print()\n",
    "    print()\n",
    "    index +=1"
   ]
  },
  {
   "cell_type": "markdown",
   "id": "6b5a44c2-c168-4a85-9a72-e09afe1c0736",
   "metadata": {},
   "source": [
    "### Get the Top 3 images based on Image ranking followed by composite ranking"
   ]
  },
  {
   "cell_type": "code",
   "execution_count": 43,
   "id": "e219f20e-1676-41b5-aeba-ef80cc0d24f6",
   "metadata": {},
   "outputs": [],
   "source": [
    "text_scores=[]\n",
    "for value, position in top_3_values_with_positions_lr:\n",
    "    i, j = position \n",
    "    text_scores.append(similarities_rm[i])"
   ]
  },
  {
   "cell_type": "code",
   "execution_count": 63,
   "id": "314ef3b0-5ed7-420f-b1dc-18a22c4014cb",
   "metadata": {},
   "outputs": [],
   "source": [
    "# Get the sorting according to composite similarities after image similarity sorting\n",
    "top_3_composite_after_image = [(val1 + val2) / 2 for (val1, _), val2 in zip(top_3_values_with_positions_lr, text_scores)]\n",
    "top_3_composite_after_image_total = [(val, index) for val, (_, index) in zip(top_3_composite_after_image, top_3_values_with_positions_lr)]\n",
    "top_3_composite_after_image_total.sort(reverse=True)"
   ]
  },
  {
   "cell_type": "code",
   "execution_count": 51,
   "id": "112c8fd6-3a9f-4ff9-ad0d-388ed00ade32",
   "metadata": {},
   "outputs": [
    {
     "name": "stdout",
     "output_type": "stream",
     "text": [
      "Top 3 Results according to Image Similarity Score:\n",
      "\n",
      "1.\n",
      "Cosine similarity of images : https://images-na.ssl-images-amazon.com/images/I/81q5+IxFVUL._SY88.jpg\n",
      "Cosine similarity of text : Loving these vintage springs on my vintage strat. They have a good tension and great stability. If you are floating your bridge and want the most out of your springs than these are the way to go.\n",
      "Cosine similarity Score of images : 1.0000002\n",
      "Cosine similarity Score of text : 1.0000000000000002\n",
      "Composite similarity Score : 1.0000001192092896\n",
      "\n",
      "\n",
      "2.\n",
      "Cosine similarity of images : https://images-na.ssl-images-amazon.com/images/I/713bq9GRJhL._SY88.jpg\n",
      "Cosine similarity of text : Within a month of buying the device, the door that covers the SD card snapped off - a common problem with these recorders. Very poorly engineered.\n",
      "\n",
      "Last week I pulled the device out of a padded camera bag and one of the plastic (painted to look like metal) XLR ejector tabs had broke off.\n",
      "\n",
      "I needed to capture a recording off a mixing board with the balanced jack and had to use an XLR cable. I thought there was enough of the ejector to remove it but it's stuck. I disassembled the cable and have done everything I can to remove it short of opening the recorder.\n",
      "\n",
      "Tascam wants me to send it into them, and from the stories I hear they are probably going to charge me $90 to fix a device that is less than a year old.\n",
      "\n",
      "I will probably use a hacksaw to get the plug off and just use it as is until it dies. I'll buy a ZOOM next time. It's a shame because this device records great, even though the omni mics. For this much $ Tascam needs to prove quality, especially if they are going to say a product is rugged.\n",
      "Cosine similarity Score of images : 0.99823564\n",
      "Cosine similarity Score of text : 0.019050263644113444\n",
      "Composite similarity Score : 0.5086429532770586\n",
      "\n",
      "\n",
      "3.\n",
      "Cosine similarity of images : https://images-na.ssl-images-amazon.com/images/I/71iWTdFA4oL._SY88.jpg\n",
      "Cosine similarity of text : Better thab the terrible string trees my guitar had,  had to drill a small hole though to mount as yoy can see in the pics\n",
      "Cosine similarity Score of images : 0.9984887\n",
      "Cosine similarity Score of text : 0.0\n",
      "Composite similarity Score : 0.49924436211586\n",
      "\n",
      "\n"
     ]
    }
   ],
   "source": [
    "index=1\n",
    "print(\"Top 3 Results according to Image Similarity Score:\")\n",
    "print()\n",
    "for value, position in top_3_composite_after_image_total:\n",
    "    i, j = position \n",
    "    print(f\"{index}.\")\n",
    "    print(\"Cosine similarity of images : \",end=\"\")\n",
    "    print(all_images[i][j])\n",
    "    print(\"Cosine similarity of text : \",end=\"\")\n",
    "    print(reviews[i])\n",
    "    print(\"Cosine similarity Score of images : \",end=\"\")\n",
    "    print(similarities_lr[i][j])\n",
    "    print(\"Cosine similarity Score of text : \",end=\"\")\n",
    "    print(similarities_rm[i])\n",
    "    print(\"Composite similarity Score : \",end=\"\")\n",
    "    print(value)\n",
    "    print()\n",
    "    print()\n",
    "    index +=1"
   ]
  },
  {
   "cell_type": "markdown",
   "id": "08ffa211-e376-495e-9f7c-3d9518d6b36c",
   "metadata": {},
   "source": [
    "### Get the Top 3 text based on Image ranking followed by composite ranking"
   ]
  },
  {
   "cell_type": "code",
   "execution_count": 58,
   "id": "340aa9e4-bf4e-4530-9749-63cf37eabcf5",
   "metadata": {},
   "outputs": [
    {
     "data": {
      "text/plain": [
       "[(0, [1.0000001192092896]),\n",
       " (271, [0.6618807871801539]),\n",
       " (805, [0.6204257102491212])]"
      ]
     },
     "execution_count": 58,
     "metadata": {},
     "output_type": "execute_result"
    }
   ],
   "source": [
    "all_scores"
   ]
  },
  {
   "cell_type": "code",
   "execution_count": 64,
   "id": "33f62504-1639-4552-b804-cc09ee90d12e",
   "metadata": {},
   "outputs": [],
   "source": [
    "# Get the sorting according to composite similarities after text similarity sorting\n",
    "composite_after_text_similarity = [idx for idx, _ in sorted(all_scores, key=lambda x: max(x[1]), reverse=True)]"
   ]
  },
  {
   "cell_type": "code",
   "execution_count": 65,
   "id": "3e9c8ad0-b33e-48c9-a191-c46d5dd630b0",
   "metadata": {},
   "outputs": [
    {
     "name": "stdout",
     "output_type": "stream",
     "text": [
      "Top 3 Results according to Text Similarity Score:\n",
      "\n",
      "1.\n",
      "Cosine similarity of images : ['https://images-na.ssl-images-amazon.com/images/I/81q5+IxFVUL._SY88.jpg']\n",
      "Cosine similarity of text : Loving these vintage springs on my vintage strat. They have a good tension and great stability. If you are floating your bridge and want the most out of your springs than these are the way to go.\n",
      "Cosine similarity Score of images : [1.0000002]\n",
      "Cosine similarity Score of text : 1.0000000000000002\n",
      "Composite similarity Score : [1.0000001192092896]\n",
      "\n",
      "\n",
      "2.\n",
      "Cosine similarity of images : ['https://images-na.ssl-images-amazon.com/images/I/81Z1d7HaBfL._SY88.jpg']\n",
      "Cosine similarity of text : Nice solid springs and defeinitely more silent. Easy installation and the black looks cool.\n",
      "\n",
      "Pictured with some old uninstalled springs next to them.\n",
      "Cosine similarity Score of images : [0.9959261]\n",
      "Cosine similarity Score of text : 0.32783549222606095\n",
      "Composite similarity Score : [0.6618807871801539]\n",
      "\n",
      "\n",
      "3.\n",
      "Cosine similarity of images : ['https://images-na.ssl-images-amazon.com/images/I/61rFj+KtBRL._SY88.jpg']\n",
      "Cosine similarity of text : Fits great but the only complaint I have is that the tremolo springs are cheap quality and so is the block that attaches to the bridge. I took it off and put my own on. When you do that though, the wammy bar won't fit.\n",
      "Cosine similarity Score of images : [0.99591637]\n",
      "Cosine similarity Score of text : 0.24493505392109394\n",
      "Composite similarity Score : [0.6204257102491212]\n",
      "\n",
      "\n"
     ]
    }
   ],
   "source": [
    "index=1\n",
    "all_scores = []\n",
    "print(\"Top 3 Results according to Text Similarity Score:\")\n",
    "print()\n",
    "for idx in composite_after_text_similarity:\n",
    "    print(f\"{index}.\")\n",
    "    print(\"Cosine similarity of images : \",end=\"\")\n",
    "    print(all_images[idx])\n",
    "    print(\"Cosine similarity of text : \",end=\"\")\n",
    "    print(reviews[idx])\n",
    "    print(\"Cosine similarity Score of images : \",end=\"\")\n",
    "    print(similarities_lr[idx])\n",
    "    print(\"Cosine similarity Score of text : \",end=\"\")\n",
    "    print(similarities_rm[idx])\n",
    "    print(\"Composite similarity Score : \",end=\"\")\n",
    "    curr_list = similarities_lr[idx]\n",
    "    temp_list = []\n",
    "    for i in curr_list:\n",
    "        val = (similarities_rm[idx] + i)/2\n",
    "        temp_list.append(val)\n",
    "    all_scores.append((idx, temp_list))\n",
    "    print(temp_list)\n",
    "    print()\n",
    "    print()\n",
    "    index +=1"
   ]
  }
 ],
 "metadata": {
  "kernelspec": {
   "display_name": "Python 3 (ipykernel)",
   "language": "python",
   "name": "python3"
  },
  "language_info": {
   "codemirror_mode": {
    "name": "ipython",
    "version": 3
   },
   "file_extension": ".py",
   "mimetype": "text/x-python",
   "name": "python",
   "nbconvert_exporter": "python",
   "pygments_lexer": "ipython3",
   "version": "3.11.5"
  }
 },
 "nbformat": 4,
 "nbformat_minor": 5
}
